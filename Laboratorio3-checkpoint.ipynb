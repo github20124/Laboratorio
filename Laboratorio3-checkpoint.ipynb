{
 "cells": [
  {
   "cell_type": "markdown",
   "id": "ccade06a-80a4-440c-abaa-f88760cdf9c1",
   "metadata": {},
   "source": [
    "# Parte 1: Numpy\n",
    "  Para los ejercicios siguiente genere el código que considere para resolver el problema que se le plantea.\n",
    "\n",
    "1) ¿Cuál es el tamaño en bytes de un array de 1000 elementos de tipo booleano?"
   ]
  },
  {
   "cell_type": "code",
   "execution_count": 13,
   "id": "2e650382-aab4-434e-9780-e2873c03d814",
   "metadata": {
    "tags": []
   },
   "outputs": [],
   "source": [
    "import numpy as np"
   ]
  },
  {
   "cell_type": "code",
   "execution_count": 14,
   "id": "e2386022-ac52-446d-8c0e-5ddf079a53dc",
   "metadata": {
    "tags": []
   },
   "outputs": [
    {
     "data": {
      "text/plain": [
       "array([False, False, False, False, False, False, False, False, False,\n",
       "       False, False, False, False, False, False, False, False, False,\n",
       "       False, False, False, False, False, False, False, False, False,\n",
       "       False, False, False, False, False, False, False, False, False,\n",
       "       False, False, False, False, False, False, False, False, False,\n",
       "       False, False, False, False, False, False, False, False, False,\n",
       "       False, False, False, False, False, False, False, False, False,\n",
       "       False, False, False, False, False, False, False, False, False,\n",
       "       False, False, False, False, False, False, False, False, False,\n",
       "       False, False, False, False, False, False, False, False, False,\n",
       "       False, False, False, False, False, False, False, False, False,\n",
       "       False, False, False, False, False, False, False, False, False,\n",
       "       False, False, False, False, False, False, False, False, False,\n",
       "       False, False, False, False, False, False, False, False, False,\n",
       "       False, False, False, False, False, False, False, False, False,\n",
       "       False, False, False, False, False, False, False, False, False,\n",
       "       False, False, False, False, False, False, False, False, False,\n",
       "       False, False, False, False, False, False, False, False, False,\n",
       "       False, False, False, False, False, False, False, False, False,\n",
       "       False, False, False, False, False, False, False, False, False,\n",
       "       False, False, False, False, False, False, False, False, False,\n",
       "       False, False, False, False, False, False, False, False, False,\n",
       "       False, False, False, False, False, False, False, False, False,\n",
       "       False, False, False, False, False, False, False, False, False,\n",
       "       False, False, False, False, False, False, False, False, False,\n",
       "       False, False, False, False, False, False, False, False, False,\n",
       "       False, False, False, False, False, False, False, False, False,\n",
       "       False, False, False, False, False, False, False, False, False,\n",
       "       False, False, False, False, False, False, False, False, False,\n",
       "       False, False, False, False, False, False, False, False, False,\n",
       "       False, False, False, False, False, False, False, False, False,\n",
       "       False, False, False, False, False, False, False, False, False,\n",
       "       False, False, False, False, False, False, False, False, False,\n",
       "       False, False, False, False, False, False, False, False, False,\n",
       "       False, False, False, False, False, False, False, False, False,\n",
       "       False, False, False, False, False, False, False, False, False,\n",
       "       False, False, False, False, False, False, False, False, False,\n",
       "       False, False, False, False, False, False, False, False, False,\n",
       "       False, False, False, False, False, False, False, False, False,\n",
       "       False, False, False, False, False, False, False, False, False,\n",
       "       False, False, False, False, False, False, False, False, False,\n",
       "       False, False, False, False, False, False, False, False, False,\n",
       "       False, False, False, False, False, False, False, False, False,\n",
       "       False, False, False, False, False, False, False, False, False,\n",
       "       False, False, False, False, False, False, False, False, False,\n",
       "       False, False, False, False, False, False, False, False, False,\n",
       "       False, False, False, False, False, False, False, False, False,\n",
       "       False, False, False, False, False, False, False, False, False,\n",
       "       False, False, False, False, False, False, False, False, False,\n",
       "       False, False, False, False, False, False, False, False, False,\n",
       "       False, False, False, False, False, False, False, False, False,\n",
       "       False, False, False, False, False, False, False, False, False,\n",
       "       False, False, False, False, False, False, False, False, False,\n",
       "       False, False, False, False, False, False, False, False, False,\n",
       "       False, False, False, False, False, False, False, False, False,\n",
       "       False, False, False, False, False, False, False, False, False,\n",
       "       False, False, False, False, False, False, False, False, False,\n",
       "       False, False, False, False, False, False, False, False, False,\n",
       "       False, False, False, False, False, False, False, False, False,\n",
       "       False, False, False, False, False, False, False, False, False,\n",
       "       False, False, False, False, False, False, False, False, False,\n",
       "       False, False, False, False, False, False, False, False, False,\n",
       "       False, False, False, False, False, False, False, False, False,\n",
       "       False, False, False, False, False, False, False, False, False,\n",
       "       False, False, False, False, False, False, False, False, False,\n",
       "       False, False, False, False, False, False, False, False, False,\n",
       "       False, False, False, False, False, False, False, False, False,\n",
       "       False, False, False, False, False, False, False, False, False,\n",
       "       False, False, False, False, False, False, False, False, False,\n",
       "       False, False, False, False, False, False, False, False, False,\n",
       "       False, False, False, False, False, False, False, False, False,\n",
       "       False, False, False, False, False, False, False, False, False,\n",
       "       False, False, False, False, False, False, False, False, False,\n",
       "       False, False, False, False, False, False, False, False, False,\n",
       "       False, False, False, False, False, False, False, False, False,\n",
       "       False, False, False, False, False, False, False, False, False,\n",
       "       False, False, False, False, False, False, False, False, False,\n",
       "       False, False, False, False, False, False, False, False, False,\n",
       "       False, False, False, False, False, False, False, False, False,\n",
       "       False, False, False, False, False, False, False, False, False,\n",
       "       False, False, False, False, False, False, False, False, False,\n",
       "       False, False, False, False, False, False, False, False, False,\n",
       "       False, False, False, False, False, False, False, False, False,\n",
       "       False, False, False, False, False, False, False, False, False,\n",
       "       False, False, False, False, False, False, False, False, False,\n",
       "       False, False, False, False, False, False, False, False, False,\n",
       "       False, False, False, False, False, False, False, False, False,\n",
       "       False, False, False, False, False, False, False, False, False,\n",
       "       False, False, False, False, False, False, False, False, False,\n",
       "       False, False, False, False, False, False, False, False, False,\n",
       "       False, False, False, False, False, False, False, False, False,\n",
       "       False, False, False, False, False, False, False, False, False,\n",
       "       False, False, False, False, False, False, False, False, False,\n",
       "       False, False, False, False, False, False, False, False, False,\n",
       "       False, False, False, False, False, False, False, False, False,\n",
       "       False, False, False, False, False, False, False, False, False,\n",
       "       False, False, False, False, False, False, False, False, False,\n",
       "       False, False, False, False, False, False, False, False, False,\n",
       "       False, False, False, False, False, False, False, False, False,\n",
       "       False, False, False, False, False, False, False, False, False,\n",
       "       False, False, False, False, False, False, False, False, False,\n",
       "       False, False, False, False, False, False, False, False, False,\n",
       "       False, False, False, False, False, False, False, False, False,\n",
       "       False, False, False, False, False, False, False, False, False,\n",
       "       False, False, False, False, False, False, False, False, False,\n",
       "       False, False, False, False, False, False, False, False, False,\n",
       "       False, False, False, False, False, False, False, False, False,\n",
       "       False, False, False, False, False, False, False, False, False,\n",
       "       False, False, False, False, False, False, False, False, False,\n",
       "       False, False, False, False, False, False, False, False, False,\n",
       "       False, False, False, False, False, False, False, False, False,\n",
       "       False])"
      ]
     },
     "execution_count": 14,
     "metadata": {},
     "output_type": "execute_result"
    }
   ],
   "source": [
    "# Crear un arreglo de 1000 elementos de tipo booleano\n",
    "\n",
    "x =np.array ([False] * 1000, dtype= 'bool')\n",
    "x"
   ]
  },
  {
   "cell_type": "code",
   "execution_count": 16,
   "id": "7a48a24d-3cd5-40af-9876-bdc5e97848dd",
   "metadata": {
    "tags": []
   },
   "outputs": [],
   "source": [
    "# Calcular el tamaño del array en bytes\n",
    "\n",
    "tamaño_bytes = len(x) * x[0].__sizeof__()"
   ]
  },
  {
   "cell_type": "code",
   "execution_count": 17,
   "id": "c9b51b7c-af1f-4aa6-b239-91dff45ad0d4",
   "metadata": {
    "tags": []
   },
   "outputs": [
    {
     "name": "stdout",
     "output_type": "stream",
     "text": [
      "Tamaño del array: 25000 bytes\n"
     ]
    }
   ],
   "source": [
    "# Imprimir el tamaño del array\n",
    "print(\"Tamaño del array:\", tamaño_bytes, \"bytes\")"
   ]
  },
  {
   "cell_type": "markdown",
   "id": "223034d3-f71e-49ae-8e2e-e9c9132f7beb",
   "metadata": {},
   "source": [
    "# 2. Cree un array cuyos elementos sean los enteros pares en [1,100] y en orden decreciente. Muestre los 10 últimos por pantalla"
   ]
  },
  {
   "cell_type": "code",
   "execution_count": 27,
   "id": "236a8d8e-92c4-4559-96e5-781dedac6169",
   "metadata": {
    "tags": []
   },
   "outputs": [
    {
     "data": {
      "text/plain": [
       "[100,\n",
       " 98,\n",
       " 96,\n",
       " 94,\n",
       " 92,\n",
       " 90,\n",
       " 88,\n",
       " 86,\n",
       " 84,\n",
       " 82,\n",
       " 80,\n",
       " 78,\n",
       " 76,\n",
       " 74,\n",
       " 72,\n",
       " 70,\n",
       " 68,\n",
       " 66,\n",
       " 64,\n",
       " 62,\n",
       " 60,\n",
       " 58,\n",
       " 56,\n",
       " 54,\n",
       " 52,\n",
       " 50,\n",
       " 48,\n",
       " 46,\n",
       " 44,\n",
       " 42,\n",
       " 40,\n",
       " 38,\n",
       " 36,\n",
       " 34,\n",
       " 32,\n",
       " 30,\n",
       " 28,\n",
       " 26,\n",
       " 24,\n",
       " 22,\n",
       " 20,\n",
       " 18,\n",
       " 16,\n",
       " 14,\n",
       " 12,\n",
       " 10,\n",
       " 8,\n",
       " 6,\n",
       " 4,\n",
       " 2]"
      ]
     },
     "execution_count": 27,
     "metadata": {},
     "output_type": "execute_result"
    }
   ],
   "source": [
    "# Crear un arreglo con números enteros pares del 1 al 100 en orden decreciente\n",
    "\n",
    "numerospares = list(range(100, 0, -2))\n",
    "numerospares"
   ]
  },
  {
   "cell_type": "code",
   "execution_count": 28,
   "id": "cfac667c-5369-4d33-89e5-b2b23009fcb6",
   "metadata": {
    "tags": []
   },
   "outputs": [
    {
     "name": "stdout",
     "output_type": "stream",
     "text": [
      "Los 10 últimos elementos pares son: [20, 18, 16, 14, 12, 10, 8, 6, 4, 2]\n"
     ]
    }
   ],
   "source": [
    "# Muestra de los 10 últimos elementos\n",
    "print(\"Los 10 últimos elementos pares son:\", numerospares[-10:])"
   ]
  },
  {
   "cell_type": "markdown",
   "id": "69be882f-2c38-4a71-904a-003ca458b340",
   "metadata": {},
   "source": [
    "# 3. Dado el array\n",
    "\n",
    "2 4 5 6\n",
    "0 3 7 4\n",
    "8 8 5 2\n",
    "1 5 6 1"
   ]
  },
  {
   "cell_type": "code",
   "execution_count": 49,
   "id": "cd30fa00-0b90-40db-b611-3e27bb9be9d8",
   "metadata": {
    "tags": []
   },
   "outputs": [],
   "source": [
    "# Creación del arreglo de tipo entero\n",
    "\n",
    "arreglo = [\n",
    "    [2, 4, 5, 6],\n",
    "    [0, 3, 7, 4],\n",
    "    [8, 8, 5, 2],\n",
    "    [1, 5, 6, 1]\n",
    "    ]"
   ]
  },
  {
   "cell_type": "code",
   "execution_count": 45,
   "id": "e78d17e9-47f7-46d3-9a5a-5d401b39631a",
   "metadata": {
    "tags": []
   },
   "outputs": [
    {
     "name": "stdout",
     "output_type": "stream",
     "text": [
      "[0, 3, 7, 4]\n"
     ]
    }
   ],
   "source": [
    "# Selección del subarreglo\n",
    "subarreglo = arreglo[1]\n",
    "\n",
    "print(subarreglo)"
   ]
  },
  {
   "cell_type": "code",
   "execution_count": 53,
   "id": "7662465b-410b-4d03-98cd-6069c99af5d4",
   "metadata": {
    "tags": []
   },
   "outputs": [
    {
     "name": "stdout",
     "output_type": "stream",
     "text": [
      "[2, 4]\n",
      "[8, 8]\n"
     ]
    }
   ],
   "source": [
    "# Seleccionar el subarreglo\n",
    "\n",
    "subarreglo = [\n",
    "    arreglo[0][0:2],\n",
    "    arreglo[2][0:2]\n",
    "]\n",
    "\n",
    "for row in subarreglo:\n",
    "    print(row)"
   ]
  },
  {
   "cell_type": "markdown",
   "id": "f8e85eb9-cdae-4c87-b4aa-047912e4c2a6",
   "metadata": {
    "tags": []
   },
   "source": [
    "# 4. Dados los arrays a = [1, 4, 2, 7] y b = [1, 3, 2, 9], obtenga la media aritmética de la diferencia (a-b)."
   ]
  },
  {
   "cell_type": "code",
   "execution_count": 63,
   "id": "b27624be-e200-4640-91ca-b1fbb3c2df65",
   "metadata": {
    "tags": []
   },
   "outputs": [],
   "source": [
    "# Creación de arreglos indicados \n",
    "\n",
    "a = [1, 4, 2, 7]\n",
    "b = [1, 3, 2, 9]"
   ]
  },
  {
   "cell_type": "code",
   "execution_count": 64,
   "id": "a56cb0c8-34a0-465a-8516-ced3c55207a5",
   "metadata": {
    "tags": []
   },
   "outputs": [
    {
     "name": "stdout",
     "output_type": "stream",
     "text": [
      "La Media aritmética de la diferencia de a y b es: -0.25\n"
     ]
    }
   ],
   "source": [
    "# Calcular la media aritmética de la diferencia de los arreglos a y b:\n",
    "\n",
    "diferencia = []\n",
    "\n",
    "for i in range(len(a)):\n",
    "  dif = a[i] - b[i]\n",
    "  diferencias.append(dif)\n",
    "\n",
    "media_aritmetica = mean(diferencias)\n",
    "\n",
    "print(f\"La Media aritmética de la diferencia de a y b es: {media_aritmetica}\")"
   ]
  },
  {
   "cell_type": "markdown",
   "id": "1c4b1ad8-3c9a-4bd9-9d4b-d8b30c6d6652",
   "metadata": {},
   "source": [
    "# 5. Tengo valores de cordenadas (x, y) en las columnas del array: 1.33, 4.5, 30.0, 10.7,70.2, 0.5"
   ]
  },
  {
   "cell_type": "code",
   "execution_count": 100,
   "id": "c29370b7-7410-41c9-a84b-a6dcca8d7590",
   "metadata": {
    "tags": []
   },
   "outputs": [
    {
     "data": {
      "text/plain": [
       "[1.33, 4.5, 30.0, 10.7, 70.2, 0.5]"
      ]
     },
     "execution_count": 100,
     "metadata": {},
     "output_type": "execute_result"
    }
   ],
   "source": [
    "# Creación del array\n",
    "\n",
    "arreglo=[1.33, 4.5, 30.0, 10.7, 70.2, 0.5]\n",
    "arreglo"
   ]
  },
  {
   "cell_type": "markdown",
   "id": "58020621-13fc-456b-a209-74a8f021e373",
   "metadata": {},
   "source": [
    "# Agregue a este array las coordenadas (37.1, -3.6). Muestre en pantalla las dimensiones del nuevo array."
   ]
  },
  {
   "cell_type": "code",
   "execution_count": 101,
   "id": "d9170375-1361-4b60-86c7-ca61c3b5ada2",
   "metadata": {
    "tags": []
   },
   "outputs": [
    {
     "data": {
      "text/plain": [
       "[1.33, 4.5, 30.0, 10.7, 70.2, 0.5, 37.1, -3.6]"
      ]
     },
     "execution_count": 101,
     "metadata": {},
     "output_type": "execute_result"
    }
   ],
   "source": [
    "#insertamos un nuevo elemento al final de la lista.\n",
    "arreglo.append(37.1)\n",
    "arreglo.append(-3.6) \n",
    "arreglo"
   ]
  },
  {
   "cell_type": "code",
   "execution_count": 102,
   "id": "b1bb3791-6b5b-4dfd-80b2-ac45d2e374fa",
   "metadata": {
    "tags": []
   },
   "outputs": [
    {
     "data": {
      "text/plain": [
       "8"
      ]
     },
     "execution_count": 102,
     "metadata": {},
     "output_type": "execute_result"
    }
   ],
   "source": [
    "# Dimension o tamaño del arreglo\n",
    "len(arreglo)"
   ]
  },
  {
   "cell_type": "markdown",
   "id": "b9f0776a-8b78-4ee6-8fc2-8d7291ef019d",
   "metadata": {},
   "source": [
    "# 5.  Copie el array del ejercicio anterior. Traspóngalo. Agregue ahora dos nuevos pares de coordenadas: (10.8,3.0) y (35.8, 12.0)"
   ]
  },
  {
   "cell_type": "code",
   "execution_count": 176,
   "id": "fc14c673-c71b-41ed-8179-08b3fadec868",
   "metadata": {
    "tags": []
   },
   "outputs": [
    {
     "data": {
      "text/plain": [
       "[1.33, 4.5, 30.0, 10.7, 70.2, 0.5, 37.1, -3.6]"
      ]
     },
     "execution_count": 176,
     "metadata": {},
     "output_type": "execute_result"
    }
   ],
   "source": [
    "# Arreglo original ejercicio anterior\n",
    "\n",
    "array_original = [1.33, 4.5, 30.0, 10.7, 70.2, 0.5, 37.1, -3.6]\n",
    "array_original"
   ]
  },
  {
   "cell_type": "code",
   "execution_count": 181,
   "id": "6df4bde1-ed85-461d-8e3a-082e0466f909",
   "metadata": {
    "tags": []
   },
   "outputs": [],
   "source": [
    "# Copiar el array\n",
    "\n",
    "array_copiado = list(array_original)"
   ]
  },
  {
   "cell_type": "code",
   "execution_count": 184,
   "id": "3ec04154-bd0c-4c89-ad51-380bf0108d05",
   "metadata": {
    "tags": []
   },
   "outputs": [
    {
     "data": {
      "text/plain": [
       "[(1.33,), (4.5,), (30.0,), (10.7,), (70.2,), (0.5,), (37.1,), (-3.6,)]"
      ]
     },
     "execution_count": 184,
     "metadata": {},
     "output_type": "execute_result"
    }
   ],
   "source": [
    "# transponer el arreglo\n",
    "array_transpuesto = list(zip(array_copiado))\n",
    "array_transpuesto"
   ]
  },
  {
   "cell_type": "code",
   "execution_count": 185,
   "id": "a745f746-3cdf-47d3-a758-75086a0f1517",
   "metadata": {
    "tags": []
   },
   "outputs": [
    {
     "name": "stdout",
     "output_type": "stream",
     "text": [
      "Array transpuesto: [(1.33,), (4.5,), (30.0,), (10.7,), (70.2,), (0.5,), (37.1,), (-3.6,), (10.8, 3.0), (35.8, 12.0)]\n"
     ]
    }
   ],
   "source": [
    "# Agregar nuevas coordenadas a areglo transpuesto\n",
    "array_transpuesto.extend([(10.8, 3.0), (35.8, 12.0)])\n",
    "\n",
    "print(f\"Array transpuesto: {array_transpuesto}\")"
   ]
  },
  {
   "cell_type": "markdown",
   "id": "5db5f5cf-9493-4725-8155-03e3e83ffb93",
   "metadata": {},
   "source": [
    "# Parte 2: Exploración y Minería de Datos"
   ]
  },
  {
   "cell_type": "markdown",
   "id": "617a132b-950b-438a-a93b-b9c161916c7e",
   "metadata": {},
   "source": [
    "# Para los ejercicios siguiente genere el código que considere para resolver el problema que se le plantea"
   ]
  },
  {
   "cell_type": "markdown",
   "id": "435d1739-1772-4e4c-9f1e-b65ec15baa53",
   "metadata": {},
   "source": [
    "# Análisis de Datos"
   ]
  },
  {
   "cell_type": "code",
   "execution_count": 5,
   "id": "7ca5eeb8-8ad1-4dc1-a84e-04cab2e6174d",
   "metadata": {
    "tags": []
   },
   "outputs": [],
   "source": [
    "import pandas as pd\n",
    "import numpy as np\n",
    "import matplotlib.pyplot as plt\n",
    "import seaborn as sns"
   ]
  },
  {
   "cell_type": "code",
   "execution_count": 6,
   "id": "9ce444e2-0e75-44bf-83e3-bae2473a2796",
   "metadata": {
    "tags": []
   },
   "outputs": [
    {
     "data": {
      "text/html": [
       "<div>\n",
       "<style scoped>\n",
       "    .dataframe tbody tr th:only-of-type {\n",
       "        vertical-align: middle;\n",
       "    }\n",
       "\n",
       "    .dataframe tbody tr th {\n",
       "        vertical-align: top;\n",
       "    }\n",
       "\n",
       "    .dataframe thead th {\n",
       "        text-align: right;\n",
       "    }\n",
       "</style>\n",
       "<table border=\"1\" class=\"dataframe\">\n",
       "  <thead>\n",
       "    <tr style=\"text-align: right;\">\n",
       "      <th></th>\n",
       "      <th>FID</th>\n",
       "      <th>OBJECTID</th>\n",
       "      <th>Texto</th>\n",
       "      <th>Poblacion</th>\n",
       "      <th>CodMun</th>\n",
       "      <th>Municipio</th>\n",
       "      <th>CodProvin</th>\n",
       "      <th>Provincia</th>\n",
       "      <th>X</th>\n",
       "      <th>Y</th>\n",
       "    </tr>\n",
       "  </thead>\n",
       "  <tbody>\n",
       "    <tr>\n",
       "      <th>0</th>\n",
       "      <td>0</td>\n",
       "      <td>1</td>\n",
       "      <td>Agüimes</td>\n",
       "      <td>29431.0</td>\n",
       "      <td>35002</td>\n",
       "      <td>Agüimes</td>\n",
       "      <td>35</td>\n",
       "      <td>Las Palmas</td>\n",
       "      <td>-15.446012</td>\n",
       "      <td>27.900542</td>\n",
       "    </tr>\n",
       "    <tr>\n",
       "      <th>1</th>\n",
       "      <td>1</td>\n",
       "      <td>2</td>\n",
       "      <td>Antigua</td>\n",
       "      <td>10458.0</td>\n",
       "      <td>35003</td>\n",
       "      <td>Antigua</td>\n",
       "      <td>35</td>\n",
       "      <td>Las Palmas</td>\n",
       "      <td>-14.013301</td>\n",
       "      <td>28.418966</td>\n",
       "    </tr>\n",
       "    <tr>\n",
       "      <th>2</th>\n",
       "      <td>2</td>\n",
       "      <td>3</td>\n",
       "      <td>Arrecife</td>\n",
       "      <td>58156.0</td>\n",
       "      <td>35004</td>\n",
       "      <td>Arrecife</td>\n",
       "      <td>35</td>\n",
       "      <td>Las Palmas</td>\n",
       "      <td>-13.551451</td>\n",
       "      <td>28.960649</td>\n",
       "    </tr>\n",
       "    <tr>\n",
       "      <th>3</th>\n",
       "      <td>3</td>\n",
       "      <td>4</td>\n",
       "      <td>Arucas</td>\n",
       "      <td>36745.0</td>\n",
       "      <td>35006</td>\n",
       "      <td>Arucas</td>\n",
       "      <td>35</td>\n",
       "      <td>Las Palmas</td>\n",
       "      <td>-15.521512</td>\n",
       "      <td>28.117496</td>\n",
       "    </tr>\n",
       "    <tr>\n",
       "      <th>4</th>\n",
       "      <td>4</td>\n",
       "      <td>5</td>\n",
       "      <td>Gáldar</td>\n",
       "      <td>24473.0</td>\n",
       "      <td>35009</td>\n",
       "      <td>Gáldar</td>\n",
       "      <td>35</td>\n",
       "      <td>Las Palmas</td>\n",
       "      <td>-15.654111</td>\n",
       "      <td>28.143873</td>\n",
       "    </tr>\n",
       "  </tbody>\n",
       "</table>\n",
       "</div>"
      ],
      "text/plain": [
       "   FID  OBJECTID     Texto  Poblacion  CodMun Municipio  CodProvin  \\\n",
       "0    0         1   Agüimes    29431.0   35002   Agüimes         35   \n",
       "1    1         2   Antigua    10458.0   35003   Antigua         35   \n",
       "2    2         3  Arrecife    58156.0   35004  Arrecife         35   \n",
       "3    3         4    Arucas    36745.0   35006    Arucas         35   \n",
       "4    4         5    Gáldar    24473.0   35009    Gáldar         35   \n",
       "\n",
       "    Provincia          X          Y  \n",
       "0  Las Palmas -15.446012  27.900542  \n",
       "1  Las Palmas -14.013301  28.418966  \n",
       "2  Las Palmas -13.551451  28.960649  \n",
       "3  Las Palmas -15.521512  28.117496  \n",
       "4  Las Palmas -15.654111  28.143873  "
      ]
     },
     "execution_count": 6,
     "metadata": {},
     "output_type": "execute_result"
    }
   ],
   "source": [
    "# Carga de los datos desde el archivo denomina Nucleospoblacion.csv\n",
    "dataset = pd.read_csv(\"NucleosPoblacion.csv\")\n",
    "dataset.head()"
   ]
  },
  {
   "cell_type": "markdown",
   "id": "5804f142-ce6a-48da-8afb-7be429b9c434",
   "metadata": {},
   "source": [
    "# Análisis previo"
   ]
  },
  {
   "cell_type": "code",
   "execution_count": 7,
   "id": "3b6d0b78-7535-49d6-9f6d-f2d9d682c863",
   "metadata": {
    "tags": []
   },
   "outputs": [
    {
     "data": {
      "text/plain": [
       "(852, 10)"
      ]
     },
     "execution_count": 7,
     "metadata": {},
     "output_type": "execute_result"
    }
   ],
   "source": [
    "# dimensiones de la tabla.\n",
    "dataset.shape"
   ]
  },
  {
   "cell_type": "code",
   "execution_count": 8,
   "id": "16aea0ef-9a3a-4145-b3ab-5b988046ece1",
   "metadata": {
    "tags": []
   },
   "outputs": [
    {
     "data": {
      "text/html": [
       "<div>\n",
       "<style scoped>\n",
       "    .dataframe tbody tr th:only-of-type {\n",
       "        vertical-align: middle;\n",
       "    }\n",
       "\n",
       "    .dataframe tbody tr th {\n",
       "        vertical-align: top;\n",
       "    }\n",
       "\n",
       "    .dataframe thead th {\n",
       "        text-align: right;\n",
       "    }\n",
       "</style>\n",
       "<table border=\"1\" class=\"dataframe\">\n",
       "  <thead>\n",
       "    <tr style=\"text-align: right;\">\n",
       "      <th></th>\n",
       "      <th>FID</th>\n",
       "      <th>OBJECTID</th>\n",
       "      <th>Poblacion</th>\n",
       "      <th>CodMun</th>\n",
       "      <th>CodProvin</th>\n",
       "      <th>X</th>\n",
       "      <th>Y</th>\n",
       "    </tr>\n",
       "  </thead>\n",
       "  <tbody>\n",
       "    <tr>\n",
       "      <th>count</th>\n",
       "      <td>852.00000</td>\n",
       "      <td>852.00000</td>\n",
       "      <td>8.520000e+02</td>\n",
       "      <td>852.000000</td>\n",
       "      <td>852.000000</td>\n",
       "      <td>852.000000</td>\n",
       "      <td>852.000000</td>\n",
       "    </tr>\n",
       "    <tr>\n",
       "      <th>mean</th>\n",
       "      <td>425.50000</td>\n",
       "      <td>426.50000</td>\n",
       "      <td>4.571086e+04</td>\n",
       "      <td>25064.747653</td>\n",
       "      <td>24.974178</td>\n",
       "      <td>-3.449561</td>\n",
       "      <td>39.168865</td>\n",
       "    </tr>\n",
       "    <tr>\n",
       "      <th>std</th>\n",
       "      <td>246.09551</td>\n",
       "      <td>246.09551</td>\n",
       "      <td>1.405981e+05</td>\n",
       "      <td>14288.756872</td>\n",
       "      <td>14.289414</td>\n",
       "      <td>4.602387</td>\n",
       "      <td>3.682011</td>\n",
       "    </tr>\n",
       "    <tr>\n",
       "      <th>min</th>\n",
       "      <td>0.00000</td>\n",
       "      <td>1.00000</td>\n",
       "      <td>1.003700e+04</td>\n",
       "      <td>1002.000000</td>\n",
       "      <td>1.000000</td>\n",
       "      <td>-17.914361</td>\n",
       "      <td>27.770340</td>\n",
       "    </tr>\n",
       "    <tr>\n",
       "      <th>25%</th>\n",
       "      <td>212.75000</td>\n",
       "      <td>213.75000</td>\n",
       "      <td>1.368975e+04</td>\n",
       "      <td>11027.000000</td>\n",
       "      <td>11.000000</td>\n",
       "      <td>-5.692163</td>\n",
       "      <td>37.591777</td>\n",
       "    </tr>\n",
       "    <tr>\n",
       "      <th>50%</th>\n",
       "      <td>425.50000</td>\n",
       "      <td>426.50000</td>\n",
       "      <td>1.986500e+04</td>\n",
       "      <td>28059.500000</td>\n",
       "      <td>28.000000</td>\n",
       "      <td>-3.253442</td>\n",
       "      <td>39.593034</td>\n",
       "    </tr>\n",
       "    <tr>\n",
       "      <th>75%</th>\n",
       "      <td>638.25000</td>\n",
       "      <td>639.25000</td>\n",
       "      <td>3.495075e+04</td>\n",
       "      <td>36056.250000</td>\n",
       "      <td>36.000000</td>\n",
       "      <td>-0.418458</td>\n",
       "      <td>41.630062</td>\n",
       "    </tr>\n",
       "    <tr>\n",
       "      <th>max</th>\n",
       "      <td>851.00000</td>\n",
       "      <td>852.00000</td>\n",
       "      <td>3.273049e+06</td>\n",
       "      <td>52001.000000</td>\n",
       "      <td>52.000000</td>\n",
       "      <td>4.265466</td>\n",
       "      <td>43.625578</td>\n",
       "    </tr>\n",
       "  </tbody>\n",
       "</table>\n",
       "</div>"
      ],
      "text/plain": [
       "             FID   OBJECTID     Poblacion        CodMun   CodProvin  \\\n",
       "count  852.00000  852.00000  8.520000e+02    852.000000  852.000000   \n",
       "mean   425.50000  426.50000  4.571086e+04  25064.747653   24.974178   \n",
       "std    246.09551  246.09551  1.405981e+05  14288.756872   14.289414   \n",
       "min      0.00000    1.00000  1.003700e+04   1002.000000    1.000000   \n",
       "25%    212.75000  213.75000  1.368975e+04  11027.000000   11.000000   \n",
       "50%    425.50000  426.50000  1.986500e+04  28059.500000   28.000000   \n",
       "75%    638.25000  639.25000  3.495075e+04  36056.250000   36.000000   \n",
       "max    851.00000  852.00000  3.273049e+06  52001.000000   52.000000   \n",
       "\n",
       "                X           Y  \n",
       "count  852.000000  852.000000  \n",
       "mean    -3.449561   39.168865  \n",
       "std      4.602387    3.682011  \n",
       "min    -17.914361   27.770340  \n",
       "25%     -5.692163   37.591777  \n",
       "50%     -3.253442   39.593034  \n",
       "75%     -0.418458   41.630062  \n",
       "max      4.265466   43.625578  "
      ]
     },
     "execution_count": 8,
     "metadata": {},
     "output_type": "execute_result"
    }
   ],
   "source": [
    "dataset.describe()"
   ]
  },
  {
   "cell_type": "code",
   "execution_count": 9,
   "id": "81ff94c0-76f3-415c-9ea6-f27cdeb6502c",
   "metadata": {
    "tags": []
   },
   "outputs": [
    {
     "data": {
      "text/plain": [
       "count    8.520000e+02\n",
       "mean     4.571086e+04\n",
       "std      1.405981e+05\n",
       "min      1.003700e+04\n",
       "25%      1.368975e+04\n",
       "50%      1.986500e+04\n",
       "75%      3.495075e+04\n",
       "max      3.273049e+06\n",
       "Name: Poblacion, dtype: float64"
      ]
     },
     "execution_count": 9,
     "metadata": {},
     "output_type": "execute_result"
    }
   ],
   "source": [
    "dataset['Poblacion'].describe()"
   ]
  },
  {
   "cell_type": "code",
   "execution_count": 10,
   "id": "e0d17c0e-298a-4227-b94b-cda431fe21ab",
   "metadata": {
    "tags": []
   },
   "outputs": [
    {
     "data": {
      "text/plain": [
       "Index(['FID', 'OBJECTID', 'Texto', 'Poblacion', 'CodMun', 'Municipio',\n",
       "       'CodProvin', 'Provincia', 'X', 'Y'],\n",
       "      dtype='object')"
      ]
     },
     "execution_count": 10,
     "metadata": {},
     "output_type": "execute_result"
    }
   ],
   "source": [
    "# Nombre de las columnas\n",
    "dataset.columns"
   ]
  },
  {
   "cell_type": "code",
   "execution_count": 11,
   "id": "b94bce3c-c5b3-48b7-8ed4-4be64e8f32fe",
   "metadata": {
    "tags": []
   },
   "outputs": [
    {
     "data": {
      "text/plain": [
       "FID            int64\n",
       "OBJECTID       int64\n",
       "Texto         object\n",
       "Poblacion    float64\n",
       "CodMun         int64\n",
       "Municipio     object\n",
       "CodProvin      int64\n",
       "Provincia     object\n",
       "X            float64\n",
       "Y            float64\n",
       "dtype: object"
      ]
     },
     "execution_count": 11,
     "metadata": {},
     "output_type": "execute_result"
    }
   ],
   "source": [
    "# Tipo de datos\n",
    "dataset.dtypes"
   ]
  },
  {
   "cell_type": "code",
   "execution_count": 12,
   "id": "92791799-bee6-48e2-aac6-e02119fd8433",
   "metadata": {
    "tags": []
   },
   "outputs": [
    {
     "data": {
      "text/plain": [
       "0                                         Agüimes\n",
       "1                                         Antigua\n",
       "2                                        Arrecife\n",
       "3                                          Arucas\n",
       "4                                          Gáldar\n",
       "                          ...                    \n",
       "847                                        Murcia\n",
       "848                                        Murcia\n",
       "849                                        Murcia\n",
       "850                                        Toledo\n",
       "851    Castellón de la Plana/Castelló de la Plana\n",
       "Name: Municipio, Length: 852, dtype: object"
      ]
     },
     "execution_count": 12,
     "metadata": {},
     "output_type": "execute_result"
    }
   ],
   "source": [
    "dataset['Municipio']"
   ]
  },
  {
   "cell_type": "code",
   "execution_count": 13,
   "id": "a203a9ed-039f-4db3-9755-909d88c0b076",
   "metadata": {
    "tags": []
   },
   "outputs": [
    {
     "data": {
      "text/plain": [
       "0      29431.0\n",
       "1      10458.0\n",
       "2      58156.0\n",
       "3      36745.0\n",
       "4      24473.0\n",
       "        ...   \n",
       "847    14192.0\n",
       "848    13349.0\n",
       "849    15208.0\n",
       "850    19177.0\n",
       "851    16367.0\n",
       "Name: Poblacion, Length: 852, dtype: float64"
      ]
     },
     "execution_count": 13,
     "metadata": {},
     "output_type": "execute_result"
    }
   ],
   "source": [
    "dataset['Poblacion']"
   ]
  },
  {
   "cell_type": "code",
   "execution_count": 14,
   "id": "9eb33d68-528d-47c3-aa06-e772a52f5bcb",
   "metadata": {
    "tags": []
   },
   "outputs": [
    {
     "data": {
      "text/plain": [
       "Poblacion\n",
       "11042.0    3\n",
       "18225.0    2\n",
       "12220.0    2\n",
       "14425.0    2\n",
       "23066.0    2\n",
       "          ..\n",
       "18240.0    1\n",
       "17415.0    1\n",
       "11306.0    1\n",
       "33735.0    1\n",
       "16367.0    1\n",
       "Name: count, Length: 837, dtype: int64"
      ]
     },
     "execution_count": 14,
     "metadata": {},
     "output_type": "execute_result"
    }
   ],
   "source": [
    "dataset['Poblacion'].value_counts()"
   ]
  },
  {
   "cell_type": "markdown",
   "id": "74a3d39a-c38d-4b63-b854-e1b997a13465",
   "metadata": {},
   "source": [
    "# 1) ¿Cuántos Municipios tienen más de 100,000 habitantes?."
   ]
  },
  {
   "cell_type": "code",
   "execution_count": 15,
   "id": "93f50f79-ed6c-46d1-aed3-98afa1da8cbc",
   "metadata": {
    "tags": []
   },
   "outputs": [
    {
     "name": "stdout",
     "output_type": "stream",
     "text": [
      "Número de municipios con más de 100,000 habitantes: 62\n"
     ]
    }
   ],
   "source": [
    "# Municipios con más de 100,000 habitantes\n",
    "municipios_mas_100000 = dataset[dataset['Poblacion'] > 100000]\n",
    "num_municipios_mas_100000 = len(municipios_mas_100000)\n",
    "\n",
    "print(\"Número de municipios con más de 100,000 habitantes:\", num_municipios_mas_100000)"
   ]
  },
  {
   "cell_type": "markdown",
   "id": "c4ac2b56-3aa9-4efa-9d92-37fa71da0545",
   "metadata": {},
   "source": [
    "# 2) Realice una gráfica de barras sobre la polbación de cada ciudad, ordenela de menor a mayo y responda:"
   ]
  },
  {
   "cell_type": "code",
   "execution_count": 307,
   "id": "1377dfee-1826-48c0-9bd2-253f32c98cd6",
   "metadata": {
    "tags": []
   },
   "outputs": [],
   "source": [
    "# Ordenar el dataframe por población de menor a mayor\n",
    "dataset = dataset.sort_values(by=\"Poblacion\", ascending=True)"
   ]
  },
  {
   "cell_type": "code",
   "execution_count": 334,
   "id": "2b12ed5f-5cc5-459f-9236-914193af74b6",
   "metadata": {
    "tags": []
   },
   "outputs": [
    {
     "data": {
      "image/png": "[encoded data removed]",
      "text/plain": [
       "<Figure size 1200x1000 with 1 Axes>"
      ]
     },
     "metadata": {},
     "output_type": "display_data"
    }
   ],
   "source": [
    "plt.figure(figsize=(12, 10))\n",
    "plt.barh(municipios_mas_100000['Municipio'], municipios_mas_100000['Poblacion'], color='blue')\n",
    "plt.xlabel('Población en millones de habitantes')\n",
    "plt.ylabel('Municipios')\n",
    "plt.title('Población de cada municipio')\n",
    "plt.gca().invert_yaxis()  # Invertir el eje y para mostrar el municipio con menor población arriba\n",
    "plt.show()"
   ]
  },
  {
   "cell_type": "markdown",
   "id": "32a0c5be-048e-4407-9cc4-e5d703ef9b38",
   "metadata": {},
   "source": [
    "# a. ¿Cuál es la segunda ciudad más poblada?\n",
    "    Derivado de lo anterior detallado, la segunda ciudad más poblada después de Madrid es Barcelona con habitantes de arriba de un millon y medio de habitantes aproximadamente.\n",
    "\n",
    "# b. ¿Qué posición ocupa Granada en el ranking de las ciudades más pobladas\n",
    "    La posoción según la presente gráfica es de 18 municipios más poblados.\n"
   ]
  },
  {
   "cell_type": "markdown",
   "id": "a0e9616e-bc70-4743-a984-c90ca0e956f3",
   "metadata": {},
   "source": [
    "# 3. Cuántos municipios de Navarra tienen más de 5000 habitantes?."
   ]
  },
  {
   "cell_type": "code",
   "execution_count": 26,
   "id": "caddb83a-bfa2-423b-b247-04e91715ad89",
   "metadata": {
    "tags": []
   },
   "outputs": [
    {
     "name": "stdout",
     "output_type": "stream",
     "text": [
      " El número de municipios de Navarra con más de 5,000 habitantes: 11\n"
     ]
    }
   ],
   "source": [
    "# Filtro de los municipios de Navarra\n",
    "municipios_navarra = dataset[dataset['Provincia'] == 'Navarra']\n",
    "\n",
    "# Filtro de los municipios de Navarra con más de 5,000 habitantes\n",
    "municipios_mayor_a_5000_navarra = municipios_navarra[municipios_navarra['Poblacion'] > 5000]\n",
    "\n",
    "# Contar el número de municipios de Navarra con más de 5,000 habitantes\n",
    "num_municipios_mayor_a_5000_navarra = len(municipios_mayor_a_5000_navarra)\n",
    "\n",
    "print(\" El número de municipios de Navarra con más de 5,000 habitantes:\", num_municipios_mayor_a_5000_navarra)"
   ]
  },
  {
   "cell_type": "markdown",
   "id": "18aed72f-4558-49a7-9660-fc01b2037486",
   "metadata": {},
   "source": [
    "# 4. ¿Cuál es el municipio situado más al Norte? (Usar el valor de la coordenada \"Y\" que representa la latitud en grados). Proporcione también la provincia a la que pertenece y su población."
   ]
  },
  {
   "cell_type": "code",
   "execution_count": 42,
   "id": "98f81525-1ece-48fc-a2d8-1ea5d91c6853",
   "metadata": {
    "tags": []
   },
   "outputs": [
    {
     "name": "stdout",
     "output_type": "stream",
     "text": [
      "El municipio situado más al Norte es: Viveiro\n",
      "Provincia: Lugo\n",
      "Población: 16211.0\n"
     ]
    }
   ],
   "source": [
    "# Encontrar el municipio situado más al Norte\n",
    "\n",
    "municipio_norte = dataset[dataset['Y'] == dataset['Y'].max()]\n",
    "\n",
    "# Obtener el nombre del municipio, provincia y población\n",
    "\n",
    "nombre_municipio = municipio_norte['Municipio'].iloc[0]\n",
    "provincia = municipio_norte['Provincia'].iloc[0]\n",
    "poblacion = municipio_norte['Poblacion'].iloc[0]\n",
    "\n",
    "print(\"El municipio situado más al Norte es:\", nombre_municipio)\n",
    "print(\"Provincia:\", provincia)\n",
    "print(\"Población:\", poblacion)"
   ]
  },
  {
   "cell_type": "markdown",
   "id": "3fb1619a-ecda-40f7-bd3c-7a0c4521fc9e",
   "metadata": {},
   "source": [
    "# 5. Obtenga la media, mediana, desviación estándar, valor máximo y valor mínimo de la población de los municipios de la provincia de Granada"
   ]
  },
  {
   "cell_type": "code",
   "execution_count": 43,
   "id": "e33ac117-47a2-4eba-902c-a66a4dbfe2b5",
   "metadata": {
    "tags": []
   },
   "outputs": [],
   "source": [
    "# Filtro de los municipios de Granada\n",
    "\n",
    "municipios_granada = dataset[dataset['Provincia'] == 'Granada']"
   ]
  },
  {
   "cell_type": "code",
   "execution_count": 52,
   "id": "778a8c3f-9b48-4dbb-b1d2-f773c2566fc2",
   "metadata": {
    "tags": []
   },
   "outputs": [
    {
     "name": "stdout",
     "output_type": "stream",
     "text": [
      "--Estadísticas de la población de los municipios de la provincia de Granada:--\n",
      "La Media es: 30217.85\n",
      "La Mediana es: 17526.0\n",
      "La Desviación estándar es: 50355.49171459277\n",
      "El Valor máximo es: 239154.0\n",
      "el Valor mínimo es: 10386.0\n"
     ]
    }
   ],
   "source": [
    "# Calcular las estadísticas\n",
    "media = municipios_granada['Poblacion'].mean()\n",
    "mediana = municipios_granada['Poblacion'].median()\n",
    "desviacion_estandar = municipios_granada['Poblacion'].std()\n",
    "valor_maximo = municipios_granada['Poblacion'].max()\n",
    "valor_minimo = municipios_granada['Poblacion'].min()\n",
    "\n",
    "print(\"--Estadísticas de la población de los municipios de la provincia de Granada:--\")\n",
    "print(\"La Media es:\", media)\n",
    "print(\"La Mediana es:\", mediana)\n",
    "print(\"La Desviación estándar es:\", desviacion_estandar)\n",
    "print(\"El Valor máximo es:\", valor_maximo)\n",
    "print(\"el Valor mínimo es:\", valor_minimo)"
   ]
  },
  {
   "cell_type": "markdown",
   "id": "d5e34dfb-e696-4dcd-9bfd-cc7f1a163b50",
   "metadata": {},
   "source": [
    "# 6.Realice un histograma con la población de los Municipios para cada una de las provincias."
   ]
  },
  {
   "cell_type": "code",
   "execution_count": 53,
   "id": "923a3747-9150-4c67-a91a-9d65f3f45f7f",
   "metadata": {
    "tags": []
   },
   "outputs": [],
   "source": [
    "def generar_histograma(df_provincia, nombre_provincia):\n",
    "    \n",
    "    plt.hist(df_provincia[\"Poblacion\"], bins=20)\n",
    "    plt.xlabel(\"Población\")\n",
    "    plt.ylabel(\"Número de municipios\")\n",
    "    plt.title(f\"Provincia de {nombre_provincia}\")\n",
    "    plt.show()"
   ]
  },
  {
   "cell_type": "code",
   "execution_count": 57,
   "id": "aec5006d-a845-4b5d-b96a-6b19e7057704",
   "metadata": {
    "tags": []
   },
   "outputs": [
    {
     "data": {
      "image/png": "[encoded data removed]",
      "text/plain": [
       "<Figure size 1200x800 with 1 Axes>"
      ]
     },
     "metadata": {},
     "output_type": "display_data"
    }
   ],
   "source": [
    "# Obtener la lista de provincias únicas\n",
    "provincias = dataset['Provincia'].unique()\n",
    "\n",
    "# Crear un histograma para cada provincia\n",
    "plt.figure(figsize=(12, 8))\n",
    "\n",
    "for provincia in provincias:\n",
    "    poblacion_provincia = dataset[dataset['Provincia'] == provincia]['Poblacion']\n",
    "    plt.hist(poblacion_provincia, bins=30, alpha=0.5, label=provincia)\n",
    "\n",
    "plt.xlabel('Población')\n",
    "plt.ylabel('Frecuencia')\n",
    "plt.title('Histograma de población por provincia')\n",
    "plt.legend()\n",
    "plt.grid(True)\n",
    "plt.show()"
   ]
  },
  {
   "cell_type": "markdown",
   "id": "73c84099-2461-4e31-b7c1-28b0d08ae0df",
   "metadata": {},
   "source": [
    "# 7. Seleccione al azar cincuenta municipios diferentes de entre los diponibles en el archivo. Asegúrese de que no se repitan. ¿Luego calcule el promedio de la población y la desviación estándar de esto 50 municipios?"
   ]
  },
  {
   "cell_type": "code",
   "execution_count": 77,
   "id": "c29293de-8f8b-4444-a389-e02ff651a43e",
   "metadata": {
    "tags": []
   },
   "outputs": [
    {
     "name": "stdout",
     "output_type": "stream",
     "text": [
      "Promedio de la población de 50 municipios aleatorios: 36000.82\n",
      "Desviación estándar de la población de 50 municipios aleatorios: 44560.11\n"
     ]
    }
   ],
   "source": [
    "municipios_aleatorios = dataset.sample(50, random_state=42)\n",
    "\n",
    "promedio_50_municipios = municipios_aleatorios[\"Poblacion\"].mean()\n",
    "desviacion_estandar_50_municipios = municipios_aleatorios[\"Poblacion\"].std()\n",
    "\n",
    "print(f\"Promedio de la población de 50 municipios aleatorios: {promedio_50_municipios:.2f}\")\n",
    "print(f\"Desviación estándar de la población de 50 municipios aleatorios: {desviacion_estandar_50_municipios:.2f}\")"
   ]
  },
  {
   "cell_type": "markdown",
   "id": "5eb08476-035f-4529-a4c6-22e6ace798e7",
   "metadata": {},
   "source": [
    "# 8. Determine los nombres de los Municipios más cercano y más lejano a Madrid. Para ello debe calcular la distancia en todos ellos y Madrid. No considere a Madrid en el análisis ya que la distancia sería cero"
   ]
  },
  {
   "cell_type": "code",
   "execution_count": 88,
   "id": "9ba55d2a-1caf-4c0d-887c-736e7b03a079",
   "metadata": {},
   "outputs": [
    {
     "name": "stdout",
     "output_type": "stream",
     "text": [
      "El municipio más cercano a Madrid es Maó que dista de 56.63 km.\n",
      "El municipio más lejano a Madrid es Carballo que dista de 67.92 km.\n"
     ]
    }
   ],
   "source": [
    "def calcular_distancia(municipio1, municipio2):\n",
    " \n",
    "# Fórmula de la distancia euclidiana\n",
    "  return np.sqrt(((municipio1[\"X\"] - municipio2[\"X\"])**2) + ((municipio1[\"Y\"] - municipio2[\"Y\"])**2))\n",
    "\n",
    "# Coordenadas de Madrid\n",
    "madrid_x = 40.416775\n",
    "madrid_y = -3.703790\n",
    "\n",
    "# Eliminar Madrid del DataFrame\n",
    "dataset = dataset.loc[dataset[\"Municipio\"] != \"Madrid\"]\n",
    "\n",
    "# Calcular la distancia a Madrid para cada municipio\n",
    "dataset[\"Distancia_Madrid\"] = dataset.apply(lambda row: calcular_distancia(row, {\"X\": madrid_x, \"Y\": madrid_y}), axis=1)\n",
    "\n",
    "# Ordenar por distancia a Madrid\n",
    "dataset = dataset.sort_values(\"Distancia_Madrid\")\n",
    "\n",
    "# Municipio más cercano a Madrid\n",
    "municipio_mas_cercano = dataset[\"Municipio\"].iloc[0]\n",
    "\n",
    "# Municipio más lejano a Madrid\n",
    "municipio_mas_lejano = dataset[\"Municipio\"].iloc[-1]\n",
    "\n",
    "print(f\"El municipio más cercano a Madrid es {municipio_mas_cercano} que dista de {dataset['Distancia_Madrid'].iloc[0]:.2f} km.\")\n",
    "print(f\"El municipio más lejano a Madrid es {municipio_mas_lejano} que dista de {dataset['Distancia_Madrid'].iloc[-1]:.2f} km.\")"
   ]
  }
 ],
 "metadata": {
  "kernelspec": {
   "display_name": "Python 3 (ipykernel)",
   "language": "python",
   "name": "python3"
  },
  "language_info": {
   "codemirror_mode": {
    "name": "ipython",
    "version": 3
   },
   "file_extension": ".py",
   "mimetype": "text/x-python",
   "name": "python",
   "nbconvert_exporter": "python",
   "pygments_lexer": "ipython3",
   "version": "3.11.5"
  }
 },
 "nbformat": 4,
 "nbformat_minor": 5
}
